{
  "nbformat": 4,
  "nbformat_minor": 0,
  "metadata": {
    "colab": {
      "name": "Copy of Copy of Untitled5.ipynb",
      "version": "0.3.2",
      "provenance": [],
      "collapsed_sections": [],
      "include_colab_link": true
    },
    "kernelspec": {
      "name": "python3",
      "display_name": "Python 3"
    }
  },
  "cells": [
    {
      "cell_type": "markdown",
      "metadata": {
        "id": "view-in-github",
        "colab_type": "text"
      },
      "source": [
        "<a href=\"https://colab.research.google.com/github/SaqlainHussainShah/CV-Assignments/blob/master/Copy_of_Copy_of_Untitled5.ipynb\" target=\"_parent\"><img src=\"https://colab.research.google.com/assets/colab-badge.svg\" alt=\"Open In Colab\"/></a>"
      ]
    },
    {
      "cell_type": "code",
      "metadata": {
        "id": "ViX_k4eY1VZD",
        "colab_type": "code",
        "colab": {
          "base_uri": "https://localhost:8080/",
          "height": 212
        },
        "outputId": "44862a7d-b4b9-4934-ef56-3e834f3c44a2"
      },
      "source": [
        "!wget http://facevoice.csail.mit.edu/facevoice-checkpoint-v2f.zip"
      ],
      "execution_count": 1,
      "outputs": [
        {
          "output_type": "stream",
          "text": [
            "--2019-09-15 08:34:12--  http://facevoice.csail.mit.edu/facevoice-checkpoint-v2f.zip\n",
            "Resolving facevoice.csail.mit.edu (facevoice.csail.mit.edu)... 128.30.2.44\n",
            "Connecting to facevoice.csail.mit.edu (facevoice.csail.mit.edu)|128.30.2.44|:80... connected.\n",
            "HTTP request sent, awaiting response... 200 OK\n",
            "Length: 1366856558 (1.3G) [application/zip]\n",
            "Saving to: ‘facevoice-checkpoint-v2f.zip’\n",
            "\n",
            "facevoice-checkpoin 100%[===================>]   1.27G  10.4MB/s    in 2m 12s  \n",
            "\n",
            "2019-09-15 08:36:25 (9.89 MB/s) - ‘facevoice-checkpoint-v2f.zip’ saved [1366856558/1366856558]\n",
            "\n"
          ],
          "name": "stdout"
        }
      ]
    },
    {
      "cell_type": "code",
      "metadata": {
        "id": "XOoKiBekDvnc",
        "colab_type": "code",
        "colab": {
          "base_uri": "https://localhost:8080/",
          "height": 123
        },
        "outputId": "ec59923a-24db-46a1-8157-6b9a17ce9ac3"
      },
      "source": [
        "\n",
        "!unzip facevoice-checkpoint-v2f.zip"
      ],
      "execution_count": 3,
      "outputs": [
        {
          "output_type": "stream",
          "text": [
            "Archive:  facevoice-checkpoint-v2f.zip\n",
            "   creating: facevoice-checkpoint-v2f/\n",
            "  inflating: facevoice-checkpoint-v2f/checkpoint  \n",
            "  inflating: facevoice-checkpoint-v2f/model-240000.data-00000-of-00001  \n",
            "  inflating: facevoice-checkpoint-v2f/model-240000.meta  \n",
            "  inflating: facevoice-checkpoint-v2f/model-240000.index  \n"
          ],
          "name": "stdout"
        }
      ]
    },
    {
      "cell_type": "code",
      "metadata": {
        "id": "7F7lLyHMDvqG",
        "colab_type": "code",
        "colab": {
          "base_uri": "https://localhost:8080/",
          "height": 283
        },
        "outputId": "f0a8a9b3-8da0-4567-894e-17525d2524d4"
      },
      "source": [
        "!wget https://github.com/changil/facevoice.git\n",
        "  "
      ],
      "execution_count": 4,
      "outputs": [
        {
          "output_type": "stream",
          "text": [
            "--2019-09-15 08:37:31--  https://github.com/changil/facevoice.git\n",
            "Resolving github.com (github.com)... 140.82.113.3\n",
            "Connecting to github.com (github.com)|140.82.113.3|:443... connected.\n",
            "HTTP request sent, awaiting response... 301 Moved Permanently\n",
            "Location: https://github.com/changil/facevoice [following]\n",
            "--2019-09-15 08:37:31--  https://github.com/changil/facevoice\n",
            "Reusing existing connection to github.com:443.\n",
            "HTTP request sent, awaiting response... 200 OK\n",
            "Length: unspecified [text/html]\n",
            "Saving to: ‘facevoice.git’\n",
            "\n",
            "\rfacevoice.git           [<=>                 ]       0  --.-KB/s               \rfacevoice.git           [ <=>                ]  75.22K  --.-KB/s    in 0.02s   \n",
            "\n",
            "2019-09-15 08:37:31 (2.96 MB/s) - ‘facevoice.git’ saved [77021]\n",
            "\n"
          ],
          "name": "stdout"
        }
      ]
    },
    {
      "cell_type": "code",
      "metadata": {
        "id": "SafmF29WDvs9",
        "colab_type": "code",
        "colab": {
          "base_uri": "https://localhost:8080/",
          "height": 301
        },
        "outputId": "a8ed210d-15d1-496a-dbee-030455fdbe2b"
      },
      "source": [
        "!wget https://github.com/changil/facevoice/archive/master.zip\n",
        "  "
      ],
      "execution_count": 8,
      "outputs": [
        {
          "output_type": "stream",
          "text": [
            "--2019-09-15 08:47:44--  https://github.com/changil/facevoice/archive/master.zip\n",
            "Resolving github.com (github.com)... 192.30.253.112\n",
            "Connecting to github.com (github.com)|192.30.253.112|:443... connected.\n",
            "HTTP request sent, awaiting response... 302 Found\n",
            "Location: https://codeload.github.com/changil/facevoice/zip/master [following]\n",
            "--2019-09-15 08:47:44--  https://codeload.github.com/changil/facevoice/zip/master\n",
            "Resolving codeload.github.com (codeload.github.com)... 192.30.253.121\n",
            "Connecting to codeload.github.com (codeload.github.com)|192.30.253.121|:443... connected.\n",
            "HTTP request sent, awaiting response... 200 OK\n",
            "Length: 4962 (4.8K) [application/zip]\n",
            "Saving to: ‘master.zip’\n",
            "\n",
            "\rmaster.zip            0%[                    ]       0  --.-KB/s               \rmaster.zip          100%[===================>]   4.85K  --.-KB/s    in 0s      \n",
            "\n",
            "2019-09-15 08:47:45 (56.9 MB/s) - ‘master.zip’ saved [4962/4962]\n",
            "\n"
          ],
          "name": "stdout"
        }
      ]
    },
    {
      "cell_type": "code",
      "metadata": {
        "id": "woWwKVtODvxn",
        "colab_type": "code",
        "colab": {
          "base_uri": "https://localhost:8080/",
          "height": 70
        },
        "outputId": "3f0ada2d-5446-494c-c52e-f3ca9ff377a8"
      },
      "source": [
        ""
      ],
      "execution_count": 9,
      "outputs": [
        {
          "output_type": "stream",
          "text": [
            "Archive:  master.zip\n",
            "79c21ed94b41125dfc8b06090c7336e864afb3d9\n",
            "replace facevoice-master/LICENSE? [y]es, [n]o, [A]ll, [N]one, [r]ename: "
          ],
          "name": "stdout"
        }
      ]
    },
    {
      "cell_type": "code",
      "metadata": {
        "id": "hfNthwtEDv4H",
        "colab_type": "code",
        "colab": {}
      },
      "source": [
        "facevoice.py v2f -c CHECKPOINTDIR --voice VOICEFILE --face0 FACEFILE --face1 FACEFILE"
      ],
      "execution_count": 0,
      "outputs": []
    },
    {
      "cell_type": "code",
      "metadata": {
        "id": "2VEqLETFDv8q",
        "colab_type": "code",
        "colab": {}
      },
      "source": [
        ""
      ],
      "execution_count": 0,
      "outputs": []
    },
    {
      "cell_type": "code",
      "metadata": {
        "id": "NK9VnlN1DwD0",
        "colab_type": "code",
        "colab": {}
      },
      "source": [
        ""
      ],
      "execution_count": 0,
      "outputs": []
    },
    {
      "cell_type": "code",
      "metadata": {
        "id": "ElC_dDrvDwGr",
        "colab_type": "code",
        "colab": {}
      },
      "source": [
        ""
      ],
      "execution_count": 0,
      "outputs": []
    },
    {
      "cell_type": "code",
      "metadata": {
        "id": "xeJDF58FDwBu",
        "colab_type": "code",
        "colab": {}
      },
      "source": [
        ""
      ],
      "execution_count": 0,
      "outputs": []
    },
    {
      "cell_type": "code",
      "metadata": {
        "id": "n_yMVGC5Dv_1",
        "colab_type": "code",
        "colab": {}
      },
      "source": [
        ""
      ],
      "execution_count": 0,
      "outputs": []
    },
    {
      "cell_type": "code",
      "metadata": {
        "id": "rNZdXT1RDv6u",
        "colab_type": "code",
        "colab": {}
      },
      "source": [
        ""
      ],
      "execution_count": 0,
      "outputs": []
    },
    {
      "cell_type": "code",
      "metadata": {
        "id": "KpI7HSz7Dv18",
        "colab_type": "code",
        "colab": {}
      },
      "source": [
        ""
      ],
      "execution_count": 0,
      "outputs": []
    },
    {
      "cell_type": "code",
      "metadata": {
        "id": "xKhdqi1RDv0a",
        "colab_type": "code",
        "colab": {}
      },
      "source": [
        ""
      ],
      "execution_count": 0,
      "outputs": []
    },
    {
      "cell_type": "code",
      "metadata": {
        "id": "qS4dztNVDvvz",
        "colab_type": "code",
        "colab": {}
      },
      "source": [
        ""
      ],
      "execution_count": 0,
      "outputs": []
    },
    {
      "cell_type": "code",
      "metadata": {
        "id": "Kkfbn4081VcT",
        "colab_type": "code",
        "colab": {}
      },
      "source": [
        "allFiles=glob.glob('./data/*.txt')"
      ],
      "execution_count": 0,
      "outputs": []
    },
    {
      "cell_type": "code",
      "metadata": {
        "id": "A_KjeO_e1Vi4",
        "colab_type": "code",
        "outputId": "bd38598a-c79a-4e10-b415-8c686dc833f3",
        "colab": {
          "base_uri": "https://localhost:8080/",
          "height": 34
        }
      },
      "source": [
        "length=len(allFiles)\n",
        "print(length)"
      ],
      "execution_count": 0,
      "outputs": [
        {
          "output_type": "stream",
          "text": [
            "1459\n"
          ],
          "name": "stdout"
        }
      ]
    },
    {
      "cell_type": "code",
      "metadata": {
        "id": "BGjnlVzG1VhH",
        "colab_type": "code",
        "colab": {}
      },
      "source": [
        "i=0"
      ],
      "execution_count": 0,
      "outputs": []
    },
    {
      "cell_type": "code",
      "metadata": {
        "id": "Tasn7J_G1VfC",
        "colab_type": "code",
        "outputId": "768b79ee-7840-4fd3-9a29-c641d07b92e3",
        "colab": {
          "base_uri": "https://localhost:8080/",
          "height": 1000
        }
      },
      "source": [
        "while i <length:\n",
        "    i=i+1\n",
        "    file=pd.read_csv(allFiles[i],sep=' ' ,names=[\"id\",\"url\",\"left\",\"top\",\"right\",\"bottom\",\"pose\",\"detection score\",\"curation\"])\n",
        "    linksOfImages=file['url']\n",
        "    lengthOfLinks=len(linksOfImages)\n",
        "    j=0\n",
        "    allFiles[i] = allFiles[i].replace(\".txt\", \"\")\n",
        "    print(\"getting data for : : : : \", allFiles[i])\n",
        "    try:\n",
        "        os.mkdir(allFiles[i])\n",
        "        print(\"created\")\n",
        "    except:\n",
        "        print(\"error\")\n",
        "    finally:\n",
        "        print(\"Succeded\")\n",
        "    for j in range(lengthOfLinks):\n",
        "        \n",
        "        path=allFiles[i]+\"/\"+str(j)+\".jpg\"\n",
        "        \n",
        "        image_url = linksOfImages[j]\n",
        "        if \"nfs.celebrityphoto.com\" in image_url or \"images.cinemaring.com\" in image_url or \"cdn7.staztic.com\" in image_url:\n",
        "            print(\"skipping due to websites connection failure\")\n",
        "        else:\n",
        "            try:\n",
        "#        r = requests.get(url, allow_redirects=True)\n",
        "#        open(path, 'wb').write(r.content)\n",
        "#        urllib.request.urlretrieve(linksOfImages[j], path)\n",
        "#        image = urllib.URLopener()\n",
        "#        image.retrieve(linksOfImages[j],path)\n",
        "#        urllib.request.urlretrieve(linksOfImages[j], path)\n",
        "#        resp = urllib.request.urlopen(linksOfImages[j])\n",
        "#        image = np.asarray(bytearray(resp.read()))\n",
        "\n",
        "#        cv2.imwrite(path, image)\n",
        "        \n",
        "  \n",
        "# URL of the image to be downloaded is defined as image_url \n",
        "                r = requests.get(image_url) # create HTTP response object \n",
        "  \n",
        "# send a HTTP request to the server and save \n",
        "# the HTTP response in a response object called r \n",
        "                with open(path,'wb') as f: \n",
        "          \n",
        "            # Saving received content as a png file in \n",
        "            # binary format \n",
        "          \n",
        "            # write the contents of the response (r.content) \n",
        "            # to a new file in binary mode. \n",
        "                    f.write(r.content)\n",
        "                    print(\"image number ,::: \", j)\n",
        "            except:\n",
        "                print(\"website issues\")\n",
        "            finally:\n",
        "                print(\"i should fetch next file\")\n",
        "\n",
        "\n",
        "\n"
      ],
      "execution_count": 0,
      "outputs": [
        {
          "output_type": "stream",
          "text": [
            "image number ,:::  712\n",
            "i should fetch next file\n",
            "website issues\n",
            "i should fetch next file\n",
            "image number ,:::  714\n",
            "i should fetch next file\n",
            "image number ,:::  715\n",
            "i should fetch next file\n",
            "image number ,:::  716\n",
            "i should fetch next file\n",
            "image number ,:::  717\n",
            "i should fetch next file\n",
            "image number ,:::  718\n",
            "i should fetch next file\n",
            "image number ,:::  719\n",
            "i should fetch next file\n",
            "image number ,:::  720\n",
            "i should fetch next file\n",
            "image number ,:::  721\n",
            "i should fetch next file\n",
            "image number ,:::  722\n",
            "i should fetch next file\n",
            "image number ,:::  723\n",
            "i should fetch next file\n",
            "image number ,:::  724\n",
            "i should fetch next file\n",
            "image number ,:::  725\n",
            "i should fetch next file\n",
            "image number ,:::  726\n",
            "i should fetch next file\n",
            "image number ,:::  727\n",
            "i should fetch next file\n",
            "image number ,:::  728\n",
            "i should fetch next file\n",
            "image number ,:::  729\n",
            "i should fetch next file\n",
            "image number ,:::  730\n",
            "i should fetch next file\n",
            "image number ,:::  731\n",
            "i should fetch next file\n",
            "image number ,:::  732\n",
            "i should fetch next file\n",
            "website issues\n",
            "i should fetch next file\n",
            "image number ,:::  734\n",
            "i should fetch next file\n",
            "image number ,:::  735\n",
            "i should fetch next file\n",
            "image number ,:::  736\n",
            "i should fetch next file\n",
            "website issues\n",
            "i should fetch next file\n",
            "image number ,:::  738\n",
            "i should fetch next file\n",
            "image number ,:::  739\n",
            "i should fetch next file\n",
            "image number ,:::  740\n",
            "i should fetch next file\n",
            "image number ,:::  741\n",
            "i should fetch next file\n",
            "image number ,:::  742\n",
            "i should fetch next file\n",
            "image number ,:::  743\n",
            "i should fetch next file\n",
            "image number ,:::  744\n",
            "i should fetch next file\n",
            "image number ,:::  745\n",
            "i should fetch next file\n",
            "image number ,:::  746\n",
            "i should fetch next file\n",
            "image number ,:::  747\n",
            "i should fetch next file\n",
            "image number ,:::  748\n",
            "i should fetch next file\n"
          ],
          "name": "stdout"
        }
      ]
    }
  ]
}